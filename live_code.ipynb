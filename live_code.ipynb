{
 "cells": [
  {
   "cell_type": "markdown",
   "metadata": {},
   "source": [
    "# Live demo"
   ]
  },
  {
   "cell_type": "code",
   "execution_count": 1,
   "metadata": {},
   "outputs": [],
   "source": [
    "import numpy as np\n",
    "import pandas as pd\n",
    "import matplotlib.pyplot as plt\n",
    "import seaborn as sns"
   ]
  },
  {
   "cell_type": "code",
   "execution_count": 13,
   "metadata": {},
   "outputs": [
    {
     "name": "stdout",
     "output_type": "stream",
     "text": [
      "Requirement already satisfied: numpy in /Library/Frameworks/Python.framework/Versions/3.8/lib/python3.8/site-packages (1.24.3)\n",
      "\n",
      "\u001b[1m[\u001b[0m\u001b[34;49mnotice\u001b[0m\u001b[1;39;49m]\u001b[0m\u001b[39;49m A new release of pip is available: \u001b[0m\u001b[31;49m24.2\u001b[0m\u001b[39;49m -> \u001b[0m\u001b[32;49m24.3.1\u001b[0m\n",
      "\u001b[1m[\u001b[0m\u001b[34;49mnotice\u001b[0m\u001b[1;39;49m]\u001b[0m\u001b[39;49m To update, run: \u001b[0m\u001b[32;49mpip install --upgrade pip\u001b[0m\n"
     ]
    }
   ],
   "source": [
    "# shift, enter to run code\n",
    "!pip install numpy"
   ]
  },
  {
   "cell_type": "code",
   "execution_count": 15,
   "metadata": {},
   "outputs": [],
   "source": [
    "df = pd.read_csv('/Users/annahauk/Desktop/ds demo/Airbnb/calendar.csv')"
   ]
  },
  {
   "cell_type": "code",
   "execution_count": 29,
   "metadata": {},
   "outputs": [
    {
     "data": {
      "text/html": [
       "<div>\n",
       "<style scoped>\n",
       "    .dataframe tbody tr th:only-of-type {\n",
       "        vertical-align: middle;\n",
       "    }\n",
       "\n",
       "    .dataframe tbody tr th {\n",
       "        vertical-align: top;\n",
       "    }\n",
       "\n",
       "    .dataframe thead th {\n",
       "        text-align: right;\n",
       "    }\n",
       "</style>\n",
       "<table border=\"1\" class=\"dataframe\">\n",
       "  <thead>\n",
       "    <tr style=\"text-align: right;\">\n",
       "      <th></th>\n",
       "      <th>listing_id</th>\n",
       "      <th>date</th>\n",
       "      <th>available</th>\n",
       "      <th>price</th>\n",
       "    </tr>\n",
       "  </thead>\n",
       "  <tbody>\n",
       "    <tr>\n",
       "      <th>0</th>\n",
       "      <td>241032</td>\n",
       "      <td>2016-01-04</td>\n",
       "      <td>t</td>\n",
       "      <td>$85.00</td>\n",
       "    </tr>\n",
       "    <tr>\n",
       "      <th>1</th>\n",
       "      <td>241032</td>\n",
       "      <td>2016-01-05</td>\n",
       "      <td>t</td>\n",
       "      <td>$85.00</td>\n",
       "    </tr>\n",
       "    <tr>\n",
       "      <th>2</th>\n",
       "      <td>241032</td>\n",
       "      <td>2016-01-06</td>\n",
       "      <td>f</td>\n",
       "      <td>NaN</td>\n",
       "    </tr>\n",
       "    <tr>\n",
       "      <th>3</th>\n",
       "      <td>241032</td>\n",
       "      <td>2016-01-07</td>\n",
       "      <td>f</td>\n",
       "      <td>NaN</td>\n",
       "    </tr>\n",
       "    <tr>\n",
       "      <th>4</th>\n",
       "      <td>241032</td>\n",
       "      <td>2016-01-08</td>\n",
       "      <td>f</td>\n",
       "      <td>NaN</td>\n",
       "    </tr>\n",
       "  </tbody>\n",
       "</table>\n",
       "</div>"
      ],
      "text/plain": [
       "   listing_id        date available   price\n",
       "0      241032  2016-01-04         t  $85.00\n",
       "1      241032  2016-01-05         t  $85.00\n",
       "2      241032  2016-01-06         f     NaN\n",
       "3      241032  2016-01-07         f     NaN\n",
       "4      241032  2016-01-08         f     NaN"
      ]
     },
     "execution_count": 29,
     "metadata": {},
     "output_type": "execute_result"
    }
   ],
   "source": [
    "#df.head(10)\n",
    "#df.tail()\n",
    "df.head()"
   ]
  },
  {
   "cell_type": "code",
   "execution_count": 25,
   "metadata": {},
   "outputs": [
    {
     "data": {
      "text/plain": [
       "Index(['listing_id', 'date', 'available', 'price'], dtype='object')"
      ]
     },
     "execution_count": 25,
     "metadata": {},
     "output_type": "execute_result"
    }
   ],
   "source": [
    "df.columns"
   ]
  },
  {
   "cell_type": "code",
   "execution_count": 28,
   "metadata": {},
   "outputs": [
    {
     "data": {
      "text/plain": [
       "listing_id     int64\n",
       "date          object\n",
       "available     object\n",
       "price         object\n",
       "dtype: object"
      ]
     },
     "execution_count": 28,
     "metadata": {},
     "output_type": "execute_result"
    }
   ],
   "source": [
    "df.dtypes"
   ]
  },
  {
   "cell_type": "code",
   "execution_count": 33,
   "metadata": {},
   "outputs": [
    {
     "data": {
      "text/plain": [
       "price\n",
       "$150.00    36646\n",
       "$100.00    31755\n",
       "$75.00     29820\n",
       "$125.00    27538\n",
       "$65.00     26415\n",
       "           ...  \n",
       "$751.00        1\n",
       "$759.00        1\n",
       "$12.00         1\n",
       "$685.00        1\n",
       "$554.00        1\n",
       "Name: count, Length: 669, dtype: int64"
      ]
     },
     "execution_count": 33,
     "metadata": {},
     "output_type": "execute_result"
    }
   ],
   "source": [
    "df['price'].value_counts()"
   ]
  },
  {
   "cell_type": "code",
   "execution_count": 36,
   "metadata": {},
   "outputs": [
    {
     "data": {
      "text/plain": [
       "array(['$85.00', nan, '$125.00', '$154.00', '$164.00', '$165.00',\n",
       "       '$150.00', '$145.00', '$144.00', '$148.00', '$155.00', '$149.00',\n",
       "       '$156.00', '$166.00', '$152.00', '$147.00', '$146.00', '$151.00',\n",
       "       '$158.00', '$168.00', '$169.00', '$192.00', '$175.00', '$162.00',\n",
       "       '$171.00', '$173.00', '$153.00', '$177.00', '$183.00', '$181.00',\n",
       "       '$170.00', '$179.00', '$167.00', '$184.00', '$186.00', '$172.00',\n",
       "       '$180.00', '$190.00', '$178.00', '$196.00', '$197.00', '$202.00',\n",
       "       '$198.00', '$205.00', '$214.00', '$218.00', '$211.00', '$193.00',\n",
       "       '$204.00', '$189.00', '$187.00', '$194.00', '$185.00', '$206.00',\n",
       "       '$191.00', '$207.00', '$208.00', '$188.00', '$200.00', '$209.00',\n",
       "       '$210.00', '$195.00', '$201.00', '$199.00', '$203.00', '$182.00',\n",
       "       '$163.00', '$159.00', '$157.00', '$142.00', '$136.00', '$134.00',\n",
       "       '$137.00', '$143.00', '$135.00', '$141.00', '$130.00', '$138.00',\n",
       "       '$133.00', '$129.00', '$127.00', '$126.00', '$131.00', '$132.00',\n",
       "       '$220.00', '$222.00', '$223.00', '$232.00', '$217.00', '$229.00',\n",
       "       '$294.00', '$358.00', '$439.00', '$400.00', '$975.00', '$750.00',\n",
       "       '$500.00', '$650.00', '$675.00', '$1,250.00', '$1,450.00',\n",
       "       '$1,650.00', '$100.00', '$600.00', '$450.00', '$475.00', '$120.00',\n",
       "       '$140.00', '$80.00', '$42.00', '$49.00', '$60.00', '$48.00',\n",
       "       '$47.00', '$52.00', '$51.00', '$50.00', '$53.00', '$61.00',\n",
       "       '$54.00', '$62.00', '$55.00', '$90.00', '$139.00', '$95.00',\n",
       "       '$69.00', '$71.00', '$74.00', '$81.00', '$84.00', '$76.00',\n",
       "       '$82.00', '$86.00', '$83.00', '$89.00', '$88.00', '$72.00',\n",
       "       '$99.00', '$245.00', '$98.00', '$103.00', '$104.00', '$112.00',\n",
       "       '$122.00', '$115.00', '$118.00', '$117.00', '$124.00', '$119.00',\n",
       "       '$250.00', '$399.00', '$549.00', '$468.00', '$419.00', '$420.00',\n",
       "       '$455.00', '$514.00', '$547.00', '$571.00', '$627.00', '$665.00',\n",
       "       '$654.00', '$590.00', '$581.00', '$579.00', '$589.00', '$629.00',\n",
       "       '$640.00', '$611.00', '$584.00', '$570.00', '$551.00', '$530.00',\n",
       "       '$594.00', '$614.00', '$604.00', '$602.00', '$612.00', '$649.00',\n",
       "       '$655.00', '$638.00', '$625.00', '$616.00', '$613.00', '$633.00',\n",
       "       '$656.00', '$642.00', '$636.00', '$644.00', '$630.00', '$621.00',\n",
       "       '$800.00', '$461.00', '$109.00', '$56.00', '$57.00', '$58.00',\n",
       "       '$59.00', '$63.00', '$64.00', '$65.00', '$67.00', '$75.00',\n",
       "       '$66.00', '$700.00', '$110.00', '$310.00', '$312.00', '$315.00',\n",
       "       '$321.00', '$550.00', '$43.00', '$45.00', '$44.00', '$46.00',\n",
       "       '$280.00', '$300.00', '$325.00', '$350.00', '$375.00', '$161.00',\n",
       "       '$174.00', '$176.00', '$226.00', '$213.00', '$212.00', '$221.00',\n",
       "       '$225.00', '$216.00', '$227.00', '$231.00', '$236.00', '$240.00',\n",
       "       '$251.00', '$254.00', '$255.00', '$246.00', '$248.00', '$230.00',\n",
       "       '$235.00', '$238.00', '$215.00', '$237.00', '$228.00', '$242.00',\n",
       "       '$224.00', '$241.00', '$244.00', '$233.00', '$243.00', '$234.00',\n",
       "       '$247.00', '$239.00', '$219.00', '$160.00', '$128.00', '$257.00',\n",
       "       '$259.00', '$261.00', '$272.00', '$252.00', '$320.00', '$402.00',\n",
       "       '$445.00', '$501.00', '$452.00', '$249.00', '$395.00', '$108.00',\n",
       "       '$285.00', '$113.00', '$348.00', '$91.00', '$92.00', '$97.00',\n",
       "       '$93.00', '$94.00', '$96.00', '$102.00', '$105.00', '$111.00',\n",
       "       '$106.00', '$114.00', '$121.00', '$116.00', '$123.00', '$1,240.00',\n",
       "       '$349.00', '$449.00', '$20.00', '$70.00', '$68.00', '$73.00',\n",
       "       '$79.00', '$77.00', '$78.00', '$334.00', '$341.00', '$369.00',\n",
       "       '$385.00', '$430.00', '$441.00', '$398.00', '$357.00', '$364.00',\n",
       "       '$362.00', '$371.00', '$438.00', '$378.00', '$401.00', '$444.00',\n",
       "       '$403.00', '$373.00', '$367.00', '$384.00', '$409.00', '$448.00',\n",
       "       '$456.00', '$414.00', '$470.00', '$386.00', '$428.00', '$467.00',\n",
       "       '$425.00', '$392.00', '$404.00', '$432.00', '$480.00', '$391.00',\n",
       "       '$405.00', '$477.00', '$483.00', '$412.00', '$485.00', '$493.00',\n",
       "       '$442.00', '$423.00', '$496.00', '$502.00', '$464.00', '$433.00',\n",
       "       '$427.00', '$474.00', '$525.00', '$536.00', '$465.00', '$437.00',\n",
       "       '$473.00', '$494.00', '$531.00', '$592.00', '$607.00', '$523.00',\n",
       "       '$546.00', '$572.00', '$595.00', '$634.00', '$693.00', '$709.00',\n",
       "       '$598.00', '$624.00', '$657.00', '$695.00', '$666.00', '$619.00',\n",
       "       '$609.00', '$631.00', '$670.00', '$735.00', '$745.00', '$669.00',\n",
       "       '$683.00', '$751.00', '$759.00', '$685.00', '$698.00', '$780.00',\n",
       "       '$794.00', '$652.00', '$674.00', '$743.00', '$662.00', '$622.00',\n",
       "       '$668.00', '$724.00', '$716.00', '$722.00', '$686.00', '$637.00',\n",
       "       '$626.00', '$643.00', '$737.00', '$744.00', '$663.00', '$620.00',\n",
       "       '$608.00', '$639.00', '$593.00', '$574.00', '$39.00', '$31.00',\n",
       "       '$30.00', '$33.00', '$40.00', '$38.00', '$41.00', '$25.00',\n",
       "       '$282.00', '$339.00', '$390.00', '$355.00', '$107.00', '$275.00',\n",
       "       '$35.00', '$34.00', '$273.00', '$293.00', '$260.00', '$302.00',\n",
       "       '$266.00', '$267.00', '$291.00', '$271.00', '$258.00', '$269.00',\n",
       "       '$301.00', '$308.00', '$278.00', '$276.00', '$309.00', '$253.00',\n",
       "       '$279.00', '$313.00', '$264.00', '$286.00', '$289.00', '$268.00',\n",
       "       '$331.00', '$270.00', '$299.00', '$329.00', '$297.00', '$274.00',\n",
       "       '$332.00', '$288.00', '$306.00', '$340.00', '$346.00', '$296.00',\n",
       "       '$314.00', '$324.00', '$303.00', '$376.00', '$290.00', '$330.00',\n",
       "       '$345.00', '$424.00', '$365.00', '$382.00', '$416.00', '$443.00',\n",
       "       '$489.00', '$422.00', '$436.00', '$459.00', '$486.00', '$466.00',\n",
       "       '$426.00', '$515.00', '$522.00', '$478.00', '$526.00', '$532.00',\n",
       "       '$479.00', '$543.00', '$553.00', '$87.00', '$101.00', '$37.00',\n",
       "       '$265.00', '$322.00', '$307.00', '$338.00', '$311.00', '$298.00',\n",
       "       '$323.00', '$327.00', '$363.00', '$342.00', '$353.00', '$383.00',\n",
       "       '$354.00', '$397.00', '$368.00', '$360.00', '$374.00', '$359.00',\n",
       "       '$356.00', '$379.00', '$408.00', '$361.00', '$407.00', '$413.00',\n",
       "       '$388.00', '$411.00', '$389.00', '$415.00', '$406.00', '$410.00',\n",
       "       '$396.00', '$344.00', '$351.00', '$381.00', '$366.00', '$352.00',\n",
       "       '$316.00', '$347.00', '$317.00', '$284.00', '$319.00', '$287.00',\n",
       "       '$305.00', '$292.00', '$256.00', '$380.00', '$277.00', '$482.00',\n",
       "       '$658.00', '$708.00', '$262.00', '$435.00', '$393.00', '$328.00',\n",
       "       '$535.00', '$446.00', '$472.00', '$899.00', '$999.00', '$1,099.00',\n",
       "       '$1,199.00', '$749.00', '$295.00', '$335.00', '$499.00', '$680.00',\n",
       "       '$333.00', '$421.00', '$575.00', '$326.00', '$318.00', '$370.00',\n",
       "       '$372.00', '$377.00', '$417.00', '$431.00', '$463.00', '$429.00',\n",
       "       '$454.00', '$440.00', '$281.00', '$336.00', '$394.00', '$387.00',\n",
       "       '$537.00', '$520.00', '$512.00', '$498.00', '$506.00', '$659.00',\n",
       "       '$676.00', '$610.00', '$490.00', '$564.00', '$491.00', '$651.00',\n",
       "       '$552.00', '$460.00', '$775.00', '$29.00', '$36.00', '$32.00',\n",
       "       '$565.00', '$28.00', '$263.00', '$538.00', '$487.00', '$484.00',\n",
       "       '$453.00', '$457.00', '$488.00', '$557.00', '$283.00', '$337.00',\n",
       "       '$343.00', '$447.00', '$27.00', '$22.00', '$23.00', '$26.00',\n",
       "       '$495.00', '$418.00', '$12.00', '$469.00', '$462.00', '$505.00',\n",
       "       '$509.00', '$507.00', '$511.00', '$476.00', '$434.00', '$516.00',\n",
       "       '$576.00', '$573.00', '$540.00', '$544.00', '$578.00', '$541.00',\n",
       "       '$542.00', '$585.00', '$569.00', '$568.00', '$939.00', '$304.00',\n",
       "       '$508.00', '$510.00', '$562.00', '$825.00', '$723.00', '$727.00',\n",
       "       '$733.00', '$628.00', '$599.00', '$10.00', '$900.00', '$1,000.00',\n",
       "       '$24.00', '$504.00', '$548.00', '$513.00', '$539.00', '$517.00',\n",
       "       '$673.00', '$711.00', '$788.00', '$901.00', '$817.00', '$545.00',\n",
       "       '$451.00', '$481.00', '$527.00', '$519.00', '$560.00', '$563.00',\n",
       "       '$646.00', '$618.00', '$623.00', '$596.00', '$567.00', '$566.00',\n",
       "       '$534.00', '$503.00', '$603.00', '$784.00', '$850.00', '$950.00',\n",
       "       '$524.00', '$471.00', '$533.00', '$583.00', '$554.00'],\n",
       "      dtype=object)"
      ]
     },
     "execution_count": 36,
     "metadata": {},
     "output_type": "execute_result"
    }
   ],
   "source": [
    "#df['price'].nunique()\n",
    "df['price'].unique()"
   ]
  },
  {
   "cell_type": "code",
   "execution_count": 37,
   "metadata": {},
   "outputs": [
    {
     "data": {
      "text/html": [
       "<div>\n",
       "<style scoped>\n",
       "    .dataframe tbody tr th:only-of-type {\n",
       "        vertical-align: middle;\n",
       "    }\n",
       "\n",
       "    .dataframe tbody tr th {\n",
       "        vertical-align: top;\n",
       "    }\n",
       "\n",
       "    .dataframe thead th {\n",
       "        text-align: right;\n",
       "    }\n",
       "</style>\n",
       "<table border=\"1\" class=\"dataframe\">\n",
       "  <thead>\n",
       "    <tr style=\"text-align: right;\">\n",
       "      <th></th>\n",
       "      <th>listing_id</th>\n",
       "      <th>date</th>\n",
       "      <th>available</th>\n",
       "      <th>price</th>\n",
       "    </tr>\n",
       "  </thead>\n",
       "  <tbody>\n",
       "    <tr>\n",
       "      <th>0</th>\n",
       "      <td>241032</td>\n",
       "      <td>2016-01-04</td>\n",
       "      <td>t</td>\n",
       "      <td>$85.00</td>\n",
       "    </tr>\n",
       "    <tr>\n",
       "      <th>1</th>\n",
       "      <td>241032</td>\n",
       "      <td>2016-01-05</td>\n",
       "      <td>t</td>\n",
       "      <td>$85.00</td>\n",
       "    </tr>\n",
       "    <tr>\n",
       "      <th>2</th>\n",
       "      <td>241032</td>\n",
       "      <td>2016-01-06</td>\n",
       "      <td>f</td>\n",
       "      <td>NaN</td>\n",
       "    </tr>\n",
       "    <tr>\n",
       "      <th>3</th>\n",
       "      <td>241032</td>\n",
       "      <td>2016-01-07</td>\n",
       "      <td>f</td>\n",
       "      <td>NaN</td>\n",
       "    </tr>\n",
       "    <tr>\n",
       "      <th>4</th>\n",
       "      <td>241032</td>\n",
       "      <td>2016-01-08</td>\n",
       "      <td>f</td>\n",
       "      <td>NaN</td>\n",
       "    </tr>\n",
       "    <tr>\n",
       "      <th>...</th>\n",
       "      <td>...</td>\n",
       "      <td>...</td>\n",
       "      <td>...</td>\n",
       "      <td>...</td>\n",
       "    </tr>\n",
       "    <tr>\n",
       "      <th>1393565</th>\n",
       "      <td>10208623</td>\n",
       "      <td>2016-12-29</td>\n",
       "      <td>f</td>\n",
       "      <td>NaN</td>\n",
       "    </tr>\n",
       "    <tr>\n",
       "      <th>1393566</th>\n",
       "      <td>10208623</td>\n",
       "      <td>2016-12-30</td>\n",
       "      <td>f</td>\n",
       "      <td>NaN</td>\n",
       "    </tr>\n",
       "    <tr>\n",
       "      <th>1393567</th>\n",
       "      <td>10208623</td>\n",
       "      <td>2016-12-31</td>\n",
       "      <td>f</td>\n",
       "      <td>NaN</td>\n",
       "    </tr>\n",
       "    <tr>\n",
       "      <th>1393568</th>\n",
       "      <td>10208623</td>\n",
       "      <td>2017-01-01</td>\n",
       "      <td>f</td>\n",
       "      <td>NaN</td>\n",
       "    </tr>\n",
       "    <tr>\n",
       "      <th>1393569</th>\n",
       "      <td>10208623</td>\n",
       "      <td>2017-01-02</td>\n",
       "      <td>f</td>\n",
       "      <td>NaN</td>\n",
       "    </tr>\n",
       "  </tbody>\n",
       "</table>\n",
       "<p>1393570 rows × 4 columns</p>\n",
       "</div>"
      ],
      "text/plain": [
       "         listing_id        date available   price\n",
       "0            241032  2016-01-04         t  $85.00\n",
       "1            241032  2016-01-05         t  $85.00\n",
       "2            241032  2016-01-06         f     NaN\n",
       "3            241032  2016-01-07         f     NaN\n",
       "4            241032  2016-01-08         f     NaN\n",
       "...             ...         ...       ...     ...\n",
       "1393565    10208623  2016-12-29         f     NaN\n",
       "1393566    10208623  2016-12-30         f     NaN\n",
       "1393567    10208623  2016-12-31         f     NaN\n",
       "1393568    10208623  2017-01-01         f     NaN\n",
       "1393569    10208623  2017-01-02         f     NaN\n",
       "\n",
       "[1393570 rows x 4 columns]"
      ]
     },
     "execution_count": 37,
     "metadata": {},
     "output_type": "execute_result"
    }
   ],
   "source": [
    "df"
   ]
  },
  {
   "cell_type": "code",
   "execution_count": 41,
   "metadata": {},
   "outputs": [
    {
     "data": {
      "text/plain": [
       "(1393570, 4)"
      ]
     },
     "execution_count": 41,
     "metadata": {},
     "output_type": "execute_result"
    }
   ],
   "source": [
    "df.shape"
   ]
  },
  {
   "cell_type": "code",
   "execution_count": 42,
   "metadata": {},
   "outputs": [
    {
     "name": "stdout",
     "output_type": "stream",
     "text": [
      "459028 1393570 0.32938998399793334\n"
     ]
    }
   ],
   "source": [
    "a = df['price'].isna().sum() # the count of null value in column price\n",
    "b = df.shape[0] # number of rows in df\n",
    "print(a, b, a/b)"
   ]
  },
  {
   "cell_type": "code",
   "execution_count": 45,
   "metadata": {},
   "outputs": [
    {
     "data": {
      "text/html": [
       "<div>\n",
       "<style scoped>\n",
       "    .dataframe tbody tr th:only-of-type {\n",
       "        vertical-align: middle;\n",
       "    }\n",
       "\n",
       "    .dataframe tbody tr th {\n",
       "        vertical-align: top;\n",
       "    }\n",
       "\n",
       "    .dataframe thead th {\n",
       "        text-align: right;\n",
       "    }\n",
       "</style>\n",
       "<table border=\"1\" class=\"dataframe\">\n",
       "  <thead>\n",
       "    <tr style=\"text-align: right;\">\n",
       "      <th></th>\n",
       "      <th>listing_id</th>\n",
       "      <th>date</th>\n",
       "      <th>available</th>\n",
       "      <th>price</th>\n",
       "    </tr>\n",
       "  </thead>\n",
       "  <tbody>\n",
       "    <tr>\n",
       "      <th>0</th>\n",
       "      <td>241032</td>\n",
       "      <td>2016-01-04</td>\n",
       "      <td>t</td>\n",
       "      <td>$85.00</td>\n",
       "    </tr>\n",
       "    <tr>\n",
       "      <th>1</th>\n",
       "      <td>241032</td>\n",
       "      <td>2016-01-05</td>\n",
       "      <td>t</td>\n",
       "      <td>$85.00</td>\n",
       "    </tr>\n",
       "    <tr>\n",
       "      <th>9</th>\n",
       "      <td>241032</td>\n",
       "      <td>2016-01-13</td>\n",
       "      <td>t</td>\n",
       "      <td>$85.00</td>\n",
       "    </tr>\n",
       "    <tr>\n",
       "      <th>10</th>\n",
       "      <td>241032</td>\n",
       "      <td>2016-01-14</td>\n",
       "      <td>t</td>\n",
       "      <td>$85.00</td>\n",
       "    </tr>\n",
       "    <tr>\n",
       "      <th>14</th>\n",
       "      <td>241032</td>\n",
       "      <td>2016-01-18</td>\n",
       "      <td>t</td>\n",
       "      <td>$85.00</td>\n",
       "    </tr>\n",
       "    <tr>\n",
       "      <th>...</th>\n",
       "      <td>...</td>\n",
       "      <td>...</td>\n",
       "      <td>...</td>\n",
       "      <td>...</td>\n",
       "    </tr>\n",
       "    <tr>\n",
       "      <th>1393207</th>\n",
       "      <td>10208623</td>\n",
       "      <td>2016-01-06</td>\n",
       "      <td>t</td>\n",
       "      <td>$87.00</td>\n",
       "    </tr>\n",
       "    <tr>\n",
       "      <th>1393208</th>\n",
       "      <td>10208623</td>\n",
       "      <td>2016-01-07</td>\n",
       "      <td>t</td>\n",
       "      <td>$87.00</td>\n",
       "    </tr>\n",
       "    <tr>\n",
       "      <th>1393211</th>\n",
       "      <td>10208623</td>\n",
       "      <td>2016-01-10</td>\n",
       "      <td>t</td>\n",
       "      <td>$87.00</td>\n",
       "    </tr>\n",
       "    <tr>\n",
       "      <th>1393212</th>\n",
       "      <td>10208623</td>\n",
       "      <td>2016-01-11</td>\n",
       "      <td>t</td>\n",
       "      <td>$87.00</td>\n",
       "    </tr>\n",
       "    <tr>\n",
       "      <th>1393213</th>\n",
       "      <td>10208623</td>\n",
       "      <td>2016-01-12</td>\n",
       "      <td>t</td>\n",
       "      <td>$87.00</td>\n",
       "    </tr>\n",
       "  </tbody>\n",
       "</table>\n",
       "<p>934542 rows × 4 columns</p>\n",
       "</div>"
      ],
      "text/plain": [
       "         listing_id        date available   price\n",
       "0            241032  2016-01-04         t  $85.00\n",
       "1            241032  2016-01-05         t  $85.00\n",
       "9            241032  2016-01-13         t  $85.00\n",
       "10           241032  2016-01-14         t  $85.00\n",
       "14           241032  2016-01-18         t  $85.00\n",
       "...             ...         ...       ...     ...\n",
       "1393207    10208623  2016-01-06         t  $87.00\n",
       "1393208    10208623  2016-01-07         t  $87.00\n",
       "1393211    10208623  2016-01-10         t  $87.00\n",
       "1393212    10208623  2016-01-11         t  $87.00\n",
       "1393213    10208623  2016-01-12         t  $87.00\n",
       "\n",
       "[934542 rows x 4 columns]"
      ]
     },
     "execution_count": 45,
     "metadata": {},
     "output_type": "execute_result"
    }
   ],
   "source": [
    "df_drop = df.dropna(subset='price') # dropping na from price column\n",
    "df_drop"
   ]
  },
  {
   "cell_type": "code",
   "execution_count": 46,
   "metadata": {},
   "outputs": [
    {
     "data": {
      "text/plain": [
       "listing_id    0\n",
       "date          0\n",
       "available     0\n",
       "price         0\n",
       "dtype: int64"
      ]
     },
     "execution_count": 46,
     "metadata": {},
     "output_type": "execute_result"
    }
   ],
   "source": [
    "df_drop.isna().sum()"
   ]
  },
  {
   "cell_type": "code",
   "execution_count": 47,
   "metadata": {},
   "outputs": [
    {
     "data": {
      "text/html": [
       "<div>\n",
       "<style scoped>\n",
       "    .dataframe tbody tr th:only-of-type {\n",
       "        vertical-align: middle;\n",
       "    }\n",
       "\n",
       "    .dataframe tbody tr th {\n",
       "        vertical-align: top;\n",
       "    }\n",
       "\n",
       "    .dataframe thead th {\n",
       "        text-align: right;\n",
       "    }\n",
       "</style>\n",
       "<table border=\"1\" class=\"dataframe\">\n",
       "  <thead>\n",
       "    <tr style=\"text-align: right;\">\n",
       "      <th></th>\n",
       "      <th>listing_id</th>\n",
       "      <th>date</th>\n",
       "      <th>available</th>\n",
       "      <th>price</th>\n",
       "    </tr>\n",
       "  </thead>\n",
       "  <tbody>\n",
       "    <tr>\n",
       "      <th>0</th>\n",
       "      <td>241032</td>\n",
       "      <td>2016-01-04</td>\n",
       "      <td>t</td>\n",
       "      <td>$85.00</td>\n",
       "    </tr>\n",
       "    <tr>\n",
       "      <th>1</th>\n",
       "      <td>241032</td>\n",
       "      <td>2016-01-05</td>\n",
       "      <td>t</td>\n",
       "      <td>$85.00</td>\n",
       "    </tr>\n",
       "    <tr>\n",
       "      <th>2</th>\n",
       "      <td>241032</td>\n",
       "      <td>2016-01-06</td>\n",
       "      <td>f</td>\n",
       "      <td>NaN</td>\n",
       "    </tr>\n",
       "    <tr>\n",
       "      <th>3</th>\n",
       "      <td>241032</td>\n",
       "      <td>2016-01-07</td>\n",
       "      <td>f</td>\n",
       "      <td>NaN</td>\n",
       "    </tr>\n",
       "    <tr>\n",
       "      <th>4</th>\n",
       "      <td>241032</td>\n",
       "      <td>2016-01-08</td>\n",
       "      <td>f</td>\n",
       "      <td>NaN</td>\n",
       "    </tr>\n",
       "    <tr>\n",
       "      <th>...</th>\n",
       "      <td>...</td>\n",
       "      <td>...</td>\n",
       "      <td>...</td>\n",
       "      <td>...</td>\n",
       "    </tr>\n",
       "    <tr>\n",
       "      <th>1393565</th>\n",
       "      <td>10208623</td>\n",
       "      <td>2016-12-29</td>\n",
       "      <td>f</td>\n",
       "      <td>NaN</td>\n",
       "    </tr>\n",
       "    <tr>\n",
       "      <th>1393566</th>\n",
       "      <td>10208623</td>\n",
       "      <td>2016-12-30</td>\n",
       "      <td>f</td>\n",
       "      <td>NaN</td>\n",
       "    </tr>\n",
       "    <tr>\n",
       "      <th>1393567</th>\n",
       "      <td>10208623</td>\n",
       "      <td>2016-12-31</td>\n",
       "      <td>f</td>\n",
       "      <td>NaN</td>\n",
       "    </tr>\n",
       "    <tr>\n",
       "      <th>1393568</th>\n",
       "      <td>10208623</td>\n",
       "      <td>2017-01-01</td>\n",
       "      <td>f</td>\n",
       "      <td>NaN</td>\n",
       "    </tr>\n",
       "    <tr>\n",
       "      <th>1393569</th>\n",
       "      <td>10208623</td>\n",
       "      <td>2017-01-02</td>\n",
       "      <td>f</td>\n",
       "      <td>NaN</td>\n",
       "    </tr>\n",
       "  </tbody>\n",
       "</table>\n",
       "<p>1393570 rows × 4 columns</p>\n",
       "</div>"
      ],
      "text/plain": [
       "         listing_id        date available   price\n",
       "0            241032  2016-01-04         t  $85.00\n",
       "1            241032  2016-01-05         t  $85.00\n",
       "2            241032  2016-01-06         f     NaN\n",
       "3            241032  2016-01-07         f     NaN\n",
       "4            241032  2016-01-08         f     NaN\n",
       "...             ...         ...       ...     ...\n",
       "1393565    10208623  2016-12-29         f     NaN\n",
       "1393566    10208623  2016-12-30         f     NaN\n",
       "1393567    10208623  2016-12-31         f     NaN\n",
       "1393568    10208623  2017-01-01         f     NaN\n",
       "1393569    10208623  2017-01-02         f     NaN\n",
       "\n",
       "[1393570 rows x 4 columns]"
      ]
     },
     "execution_count": 47,
     "metadata": {},
     "output_type": "execute_result"
    }
   ],
   "source": [
    "df"
   ]
  },
  {
   "cell_type": "code",
   "execution_count": 48,
   "metadata": {},
   "outputs": [
    {
     "data": {
      "text/plain": [
       "0          85.00\n",
       "1          85.00\n",
       "2            NaN\n",
       "3            NaN\n",
       "4            NaN\n",
       "           ...  \n",
       "1393565      NaN\n",
       "1393566      NaN\n",
       "1393567      NaN\n",
       "1393568      NaN\n",
       "1393569      NaN\n",
       "Name: price, Length: 1393570, dtype: object"
      ]
     },
     "execution_count": 48,
     "metadata": {},
     "output_type": "execute_result"
    }
   ],
   "source": [
    "df['price'] = df['price'].str.replace('$','')\n",
    "df['price'] = df['price'].str.replace(',','')\n",
    "df['price']"
   ]
  },
  {
   "cell_type": "code",
   "execution_count": 49,
   "metadata": {},
   "outputs": [
    {
     "data": {
      "text/plain": [
       "listing_id     int64\n",
       "date          object\n",
       "available     object\n",
       "price         object\n",
       "dtype: object"
      ]
     },
     "execution_count": 49,
     "metadata": {},
     "output_type": "execute_result"
    }
   ],
   "source": [
    "df.dtypes"
   ]
  },
  {
   "cell_type": "code",
   "execution_count": 54,
   "metadata": {},
   "outputs": [],
   "source": [
    "df['price'] = df['price'].astype(float)"
   ]
  },
  {
   "cell_type": "code",
   "execution_count": 55,
   "metadata": {},
   "outputs": [
    {
     "data": {
      "text/plain": [
       "listing_id      int64\n",
       "date           object\n",
       "available      object\n",
       "price         float64\n",
       "dtype: object"
      ]
     },
     "execution_count": 55,
     "metadata": {},
     "output_type": "execute_result"
    }
   ],
   "source": [
    "df.dtypes"
   ]
  },
  {
   "cell_type": "code",
   "execution_count": 67,
   "metadata": {},
   "outputs": [
    {
     "data": {
      "text/html": [
       "<div>\n",
       "<style scoped>\n",
       "    .dataframe tbody tr th:only-of-type {\n",
       "        vertical-align: middle;\n",
       "    }\n",
       "\n",
       "    .dataframe tbody tr th {\n",
       "        vertical-align: top;\n",
       "    }\n",
       "\n",
       "    .dataframe thead th {\n",
       "        text-align: right;\n",
       "    }\n",
       "</style>\n",
       "<table border=\"1\" class=\"dataframe\">\n",
       "  <thead>\n",
       "    <tr style=\"text-align: right;\">\n",
       "      <th></th>\n",
       "      <th>price</th>\n",
       "    </tr>\n",
       "  </thead>\n",
       "  <tbody>\n",
       "    <tr>\n",
       "      <th>0</th>\n",
       "      <td>85.0</td>\n",
       "    </tr>\n",
       "    <tr>\n",
       "      <th>1</th>\n",
       "      <td>85.0</td>\n",
       "    </tr>\n",
       "    <tr>\n",
       "      <th>2</th>\n",
       "      <td>0.0</td>\n",
       "    </tr>\n",
       "    <tr>\n",
       "      <th>3</th>\n",
       "      <td>0.0</td>\n",
       "    </tr>\n",
       "    <tr>\n",
       "      <th>4</th>\n",
       "      <td>0.0</td>\n",
       "    </tr>\n",
       "    <tr>\n",
       "      <th>...</th>\n",
       "      <td>...</td>\n",
       "    </tr>\n",
       "    <tr>\n",
       "      <th>1393565</th>\n",
       "      <td>0.0</td>\n",
       "    </tr>\n",
       "    <tr>\n",
       "      <th>1393566</th>\n",
       "      <td>0.0</td>\n",
       "    </tr>\n",
       "    <tr>\n",
       "      <th>1393567</th>\n",
       "      <td>0.0</td>\n",
       "    </tr>\n",
       "    <tr>\n",
       "      <th>1393568</th>\n",
       "      <td>0.0</td>\n",
       "    </tr>\n",
       "    <tr>\n",
       "      <th>1393569</th>\n",
       "      <td>0.0</td>\n",
       "    </tr>\n",
       "  </tbody>\n",
       "</table>\n",
       "<p>1393570 rows × 1 columns</p>\n",
       "</div>"
      ],
      "text/plain": [
       "         price\n",
       "0         85.0\n",
       "1         85.0\n",
       "2          0.0\n",
       "3          0.0\n",
       "4          0.0\n",
       "...        ...\n",
       "1393565    0.0\n",
       "1393566    0.0\n",
       "1393567    0.0\n",
       "1393568    0.0\n",
       "1393569    0.0\n",
       "\n",
       "[1393570 rows x 1 columns]"
      ]
     },
     "execution_count": 67,
     "metadata": {},
     "output_type": "execute_result"
    }
   ],
   "source": [
    "df2 = df[['price']].fillna(0)\n",
    "df2"
   ]
  },
  {
   "cell_type": "code",
   "execution_count": 58,
   "metadata": {},
   "outputs": [
    {
     "data": {
      "text/plain": [
       "137.94485855103355"
      ]
     },
     "execution_count": 58,
     "metadata": {},
     "output_type": "execute_result"
    }
   ],
   "source": [
    "mean = df['price'].mean()\n",
    "mean"
   ]
  },
  {
   "cell_type": "code",
   "execution_count": 68,
   "metadata": {},
   "outputs": [],
   "source": [
    "df2['price'] = df2['price'].replace(0,mean) # replace 0 with mean"
   ]
  },
  {
   "cell_type": "code",
   "execution_count": 69,
   "metadata": {},
   "outputs": [
    {
     "data": {
      "text/html": [
       "<div>\n",
       "<style scoped>\n",
       "    .dataframe tbody tr th:only-of-type {\n",
       "        vertical-align: middle;\n",
       "    }\n",
       "\n",
       "    .dataframe tbody tr th {\n",
       "        vertical-align: top;\n",
       "    }\n",
       "\n",
       "    .dataframe thead th {\n",
       "        text-align: right;\n",
       "    }\n",
       "</style>\n",
       "<table border=\"1\" class=\"dataframe\">\n",
       "  <thead>\n",
       "    <tr style=\"text-align: right;\">\n",
       "      <th></th>\n",
       "      <th>price</th>\n",
       "    </tr>\n",
       "  </thead>\n",
       "  <tbody>\n",
       "    <tr>\n",
       "      <th>0</th>\n",
       "      <td>85.000000</td>\n",
       "    </tr>\n",
       "    <tr>\n",
       "      <th>1</th>\n",
       "      <td>85.000000</td>\n",
       "    </tr>\n",
       "    <tr>\n",
       "      <th>2</th>\n",
       "      <td>137.944859</td>\n",
       "    </tr>\n",
       "    <tr>\n",
       "      <th>3</th>\n",
       "      <td>137.944859</td>\n",
       "    </tr>\n",
       "    <tr>\n",
       "      <th>4</th>\n",
       "      <td>137.944859</td>\n",
       "    </tr>\n",
       "    <tr>\n",
       "      <th>...</th>\n",
       "      <td>...</td>\n",
       "    </tr>\n",
       "    <tr>\n",
       "      <th>1393565</th>\n",
       "      <td>137.944859</td>\n",
       "    </tr>\n",
       "    <tr>\n",
       "      <th>1393566</th>\n",
       "      <td>137.944859</td>\n",
       "    </tr>\n",
       "    <tr>\n",
       "      <th>1393567</th>\n",
       "      <td>137.944859</td>\n",
       "    </tr>\n",
       "    <tr>\n",
       "      <th>1393568</th>\n",
       "      <td>137.944859</td>\n",
       "    </tr>\n",
       "    <tr>\n",
       "      <th>1393569</th>\n",
       "      <td>137.944859</td>\n",
       "    </tr>\n",
       "  </tbody>\n",
       "</table>\n",
       "<p>1393570 rows × 1 columns</p>\n",
       "</div>"
      ],
      "text/plain": [
       "              price\n",
       "0         85.000000\n",
       "1         85.000000\n",
       "2        137.944859\n",
       "3        137.944859\n",
       "4        137.944859\n",
       "...             ...\n",
       "1393565  137.944859\n",
       "1393566  137.944859\n",
       "1393567  137.944859\n",
       "1393568  137.944859\n",
       "1393569  137.944859\n",
       "\n",
       "[1393570 rows x 1 columns]"
      ]
     },
     "execution_count": 69,
     "metadata": {},
     "output_type": "execute_result"
    }
   ],
   "source": [
    "df2"
   ]
  },
  {
   "cell_type": "code",
   "execution_count": null,
   "metadata": {},
   "outputs": [],
   "source": []
  }
 ],
 "metadata": {
  "kernelspec": {
   "display_name": "Python 3",
   "language": "python",
   "name": "python3"
  },
  "language_info": {
   "codemirror_mode": {
    "name": "ipython",
    "version": 3
   },
   "file_extension": ".py",
   "mimetype": "text/x-python",
   "name": "python",
   "nbconvert_exporter": "python",
   "pygments_lexer": "ipython3",
   "version": "3.11.5"
  }
 },
 "nbformat": 4,
 "nbformat_minor": 2
}
